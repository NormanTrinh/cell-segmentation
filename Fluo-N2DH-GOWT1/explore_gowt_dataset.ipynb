{
 "cells": [
  {
   "cell_type": "code",
   "execution_count": 1,
   "metadata": {},
   "outputs": [],
   "source": [
    "from PIL import Image\n",
    "import numpy as np\n",
    "import matplotlib.pyplot as plt\n",
    "from glob import glob"
   ]
  },
  {
   "cell_type": "code",
   "execution_count": 5,
   "metadata": {},
   "outputs": [
    {
     "name": "stdout",
     "output_type": "stream",
     "text": [
      "[[0 0 0 ... 0 0 0]]\n"
     ]
    },
    {
     "data": {
      "text/plain": [
       "[0, 1, 2, 7]"
      ]
     },
     "execution_count": 5,
     "metadata": {},
     "output_type": "execute_result"
    }
   ],
   "source": [
    "img_path = 'train/Fluo-N2DH-GOWT1/01_GT/SEG/man_seg002.tif'\n",
    "\n",
    "img = Image.open(img_path)\n",
    "print(np.array(img).reshape(1,-1))\n",
    "list(set(np.array(img).reshape(1,-1)[0]))"
   ]
  },
  {
   "cell_type": "code",
   "execution_count": 7,
   "metadata": {},
   "outputs": [
    {
     "name": "stdout",
     "output_type": "stream",
     "text": [
      "train/Fluo-N2DH-GOWT1/01_GT/SEG/man_seg046.tif\n",
      "[0, 1, 2]\n",
      "train/Fluo-N2DH-GOWT1/01_GT/SEG/man_seg027.tif\n",
      "[0, 1, 2]\n",
      "train/Fluo-N2DH-GOWT1/01_GT/SEG/man_seg029.tif\n",
      "[0, 1, 2]\n",
      "train/Fluo-N2DH-GOWT1/01_GT/SEG/man_seg020.tif\n",
      "[0, 1, 2, 7]\n",
      "train/Fluo-N2DH-GOWT1/01_GT/SEG/man_seg032.tif\n",
      "[0, 1, 2]\n",
      "train/Fluo-N2DH-GOWT1/01_GT/SEG/man_seg015.tif\n",
      "[0, 1, 12]\n",
      "train/Fluo-N2DH-GOWT1/01_GT/SEG/man_seg005.tif\n",
      "[0, 1, 2]\n",
      "train/Fluo-N2DH-GOWT1/01_GT/SEG/man_seg037.tif\n",
      "[0, 1, 2]\n",
      "train/Fluo-N2DH-GOWT1/01_GT/SEG/man_seg018.tif\n",
      "[0, 7]\n",
      "train/Fluo-N2DH-GOWT1/01_GT/SEG/man_seg016.tif\n",
      "[0, 1, 2, 7]\n",
      "train/Fluo-N2DH-GOWT1/01_GT/SEG/man_seg041.tif\n",
      "[0, 1, 2]\n",
      "train/Fluo-N2DH-GOWT1/01_GT/SEG/man_seg017.tif\n",
      "[0, 7]\n",
      "train/Fluo-N2DH-GOWT1/01_GT/SEG/man_seg008.tif\n",
      "[0, 1]\n",
      "train/Fluo-N2DH-GOWT1/01_GT/SEG/man_seg002.tif\n",
      "[0, 1, 2]\n",
      "train/Fluo-N2DH-GOWT1/01_GT/SEG/man_seg039.tif\n",
      "[0, 1, 2, 3, 4, 5, 6, 8, 9, 10, 11, 12, 13, 14, 15, 16, 17, 18, 19, 20, 21, 22, 23, 24, 25]\n",
      "train/Fluo-N2DH-GOWT1/01_GT/SEG/man_seg033.tif\n",
      "[0, 1, 2, 3, 4, 5, 6, 7, 8, 9, 11, 12, 13, 14, 15, 16, 17, 18, 19, 20, 21, 22, 23, 24, 25]\n",
      "train/Fluo-N2DH-GOWT1/01_GT/SEG/man_seg012.tif\n",
      "[0, 1]\n",
      "train/Fluo-N2DH-GOWT1/01_GT/SEG/man_seg045.tif\n",
      "[0, 1, 2]\n",
      "train/Fluo-N2DH-GOWT1/01_GT/SEG/man_seg047.tif\n",
      "[0, 1, 2]\n",
      "train/Fluo-N2DH-GOWT1/01_GT/SEG/man_seg028.tif\n",
      "[0, 1, 2]\n",
      "train/Fluo-N2DH-GOWT1/01_GT/SEG/man_seg021.tif\n",
      "[0, 1, 2, 3, 4, 5, 6, 7, 8, 9, 10, 11, 12, 13, 14, 15, 16, 17, 18, 19, 20, 21, 22, 23, 24]\n",
      "train/Fluo-N2DH-GOWT1/01_GT/SEG/man_seg040.tif\n",
      "[0, 1, 2]\n",
      "train/Fluo-N2DH-GOWT1/01_GT/SEG/man_seg013.tif\n",
      "[0, 1, 2]\n",
      "train/Fluo-N2DH-GOWT1/01_GT/SEG/man_seg031.tif\n",
      "[0, 1, 2, 3, 4, 5, 6, 7, 8, 9, 10, 11, 12, 13, 14, 15, 16, 17, 18, 19, 20, 21, 22, 23, 24]\n",
      "train/Fluo-N2DH-GOWT1/01_GT/SEG/man_seg007.tif\n",
      "[0, 1]\n",
      "train/Fluo-N2DH-GOWT1/01_GT/SEG/man_seg014.tif\n",
      "[0, 1]\n",
      "train/Fluo-N2DH-GOWT1/01_GT/SEG/man_seg044.tif\n",
      "[0, 1, 2]\n",
      "train/Fluo-N2DH-GOWT1/01_GT/SEG/man_seg006.tif\n",
      "[0, 1, 2]\n",
      "train/Fluo-N2DH-GOWT1/01_GT/SEG/man_seg010.tif\n",
      "[0, 1, 2]\n",
      "train/Fluo-N2DH-GOWT1/01_GT/SEG/man_seg034.tif\n",
      "[0, 1, 2]\n"
     ]
    }
   ],
   "source": [
    "for path in glob('train/Fluo-N2DH-GOWT1/01_GT/SEG/*.tif'):\n",
    "    img = Image.open(path)\n",
    "    print(path)\n",
    "    print(list(set(np.array(img).reshape(1,-1)[0])))"
   ]
  },
  {
   "cell_type": "code",
   "execution_count": 12,
   "metadata": {},
   "outputs": [],
   "source": [
    "import cv2\n",
    "\n",
    "img = cv2.imread('train/Fluo-N2DH-GOWT1/01_GT/SEG/man_seg002.tif')"
   ]
  },
  {
   "cell_type": "code",
   "execution_count": 13,
   "metadata": {},
   "outputs": [],
   "source": [
    "cv2.imshow('a', img)\n",
    "cv2.waitKey(0)\n",
    "cv2.destroyAllWindows()"
   ]
  }
 ],
 "metadata": {
  "kernelspec": {
   "display_name": "py310",
   "language": "python",
   "name": "python3"
  },
  "language_info": {
   "codemirror_mode": {
    "name": "ipython",
    "version": 3
   },
   "file_extension": ".py",
   "mimetype": "text/x-python",
   "name": "python",
   "nbconvert_exporter": "python",
   "pygments_lexer": "ipython3",
   "version": "3.10.13"
  }
 },
 "nbformat": 4,
 "nbformat_minor": 2
}
